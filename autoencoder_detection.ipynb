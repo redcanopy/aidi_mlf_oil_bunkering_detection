{
 "cells": [
  {
   "cell_type": "markdown",
   "id": "a92c8b6e-0513-42eb-abc4-a28d87fd7c8d",
   "metadata": {},
   "source": [
    "## AutoEncoder Anomaly detection¶\n",
    "\n",
    "Using unsupervised learning Machine Learning model based on the fact that the dataset from Mariine Cadastre (https://hub.marinecadastre.gov/pages/vesseltraffic) is unlabelled data."
   ]
  },
  {
   "cell_type": "code",
   "execution_count": 3,
   "id": "ae260fac-26e9-49f8-a03a-03bddff2d822",
   "metadata": {},
   "outputs": [
    {
     "name": "stdout",
     "output_type": "stream",
     "text": [
      "Epoch 1/10\n"
     ]
    },
    {
     "name": "stderr",
     "output_type": "stream",
     "text": [
      "/opt/homebrew/anaconda3/envs/anomalydetection/lib/python3.10/site-packages/keras/src/layers/core/dense.py:87: UserWarning: Do not pass an `input_shape`/`input_dim` argument to a layer. When using Sequential models, prefer using an `Input(shape)` object as the first layer in the model instead.\n",
      "  super().__init__(activity_regularizer=activity_regularizer, **kwargs)\n"
     ]
    },
    {
     "name": "stdout",
     "output_type": "stream",
     "text": [
      "\u001b[1m68516/68516\u001b[0m \u001b[32m━━━━━━━━━━━━━━━━━━━━\u001b[0m\u001b[37m\u001b[0m \u001b[1m29s\u001b[0m 413us/step - loss: 251572.9844 - val_loss: 1096212.7500\n",
      "Epoch 2/10\n",
      "\u001b[1m68516/68516\u001b[0m \u001b[32m━━━━━━━━━━━━━━━━━━━━\u001b[0m\u001b[37m\u001b[0m \u001b[1m28s\u001b[0m 402us/step - loss: 328110.5625 - val_loss: 1096212.7500\n",
      "Epoch 3/10\n",
      "\u001b[1m68516/68516\u001b[0m \u001b[32m━━━━━━━━━━━━━━━━━━━━\u001b[0m\u001b[37m\u001b[0m \u001b[1m28s\u001b[0m 402us/step - loss: 251961.0156 - val_loss: 1096212.7500\n",
      "Epoch 4/10\n",
      "\u001b[1m68516/68516\u001b[0m \u001b[32m━━━━━━━━━━━━━━━━━━━━\u001b[0m\u001b[37m\u001b[0m \u001b[1m28s\u001b[0m 403us/step - loss: 245495.7969 - val_loss: 1096212.7500\n",
      "Epoch 5/10\n",
      "\u001b[1m68516/68516\u001b[0m \u001b[32m━━━━━━━━━━━━━━━━━━━━\u001b[0m\u001b[37m\u001b[0m \u001b[1m27s\u001b[0m 399us/step - loss: 247311.2188 - val_loss: 1096212.7500\n",
      "Epoch 6/10\n",
      "\u001b[1m68516/68516\u001b[0m \u001b[32m━━━━━━━━━━━━━━━━━━━━\u001b[0m\u001b[37m\u001b[0m \u001b[1m27s\u001b[0m 398us/step - loss: 311732.6250 - val_loss: 1096212.7500\n",
      "Epoch 7/10\n",
      "\u001b[1m68516/68516\u001b[0m \u001b[32m━━━━━━━━━━━━━━━━━━━━\u001b[0m\u001b[37m\u001b[0m \u001b[1m27s\u001b[0m 397us/step - loss: 284674.0625 - val_loss: 1096212.7500\n",
      "Epoch 8/10\n",
      "\u001b[1m68516/68516\u001b[0m \u001b[32m━━━━━━━━━━━━━━━━━━━━\u001b[0m\u001b[37m\u001b[0m \u001b[1m27s\u001b[0m 397us/step - loss: 280021.9062 - val_loss: 1096212.7500\n",
      "Epoch 9/10\n",
      "\u001b[1m68516/68516\u001b[0m \u001b[32m━━━━━━━━━━━━━━━━━━━━\u001b[0m\u001b[37m\u001b[0m \u001b[1m27s\u001b[0m 399us/step - loss: 255405.0156 - val_loss: 1096212.7500\n",
      "Epoch 10/10\n",
      "\u001b[1m68516/68516\u001b[0m \u001b[32m━━━━━━━━━━━━━━━━━━━━\u001b[0m\u001b[37m\u001b[0m \u001b[1m27s\u001b[0m 399us/step - loss: 270246.5000 - val_loss: 1096212.7500\n",
      "\u001b[1m76129/76129\u001b[0m \u001b[32m━━━━━━━━━━━━━━━━━━━━\u001b[0m\u001b[37m\u001b[0m \u001b[1m16s\u001b[0m 216us/step\n",
      "Number of anomalies detected: 121806\n",
      "    MMSI         BaseDateTime       LAT       LON  SOG    COG  Heading  \\\n",
      "8     11  2023-01-01 01:08:06  27.29230 -90.96793  0.1  207.2    511.0   \n",
      "11    11  2023-01-01 01:28:59  27.29235 -90.96780  0.0  263.6    511.0   \n",
      "17    11  2023-01-01 02:02:04  27.29234 -90.96796  0.0  196.0    511.0   \n",
      "19    11  2023-01-01 02:20:08  27.29233 -90.96790  0.0  230.1    511.0   \n",
      "20    11  2023-01-01 02:32:03  27.29237 -90.96795  0.0  232.4    511.0   \n",
      "\n",
      "      VesselName         IMO CallSign  ...  Draft  Cargo  TransceiverClass  \\\n",
      "8   CONSTITUTION  IMO0000007   GC 680  ...    0.0   90.0                 A   \n",
      "11  CONSTITUTION  IMO0000007   GC 680  ...    0.0   90.0                 A   \n",
      "17  CONSTITUTION  IMO0000007   GC 680  ...    0.0   90.0                 A   \n",
      "19  CONSTITUTION  IMO0000007   GC 680  ...    0.0   90.0                 A   \n",
      "20  CONSTITUTION  IMO0000007   GC 680  ...    0.0   90.0                 A   \n",
      "\n",
      "     distance  time_diff  calculated_speed heading_deviation   sog_mps  \\\n",
      "8    6.937042      904.0          0.007674               0.0  0.051444   \n",
      "11  19.986469      713.0          0.028032               0.0  0.000000   \n",
      "17  13.903797      903.0          0.015397               0.0  0.000000   \n",
      "19   5.072359      724.0          0.007006               0.0  0.000000   \n",
      "20   6.644282      715.0          0.009293               0.0  0.000000   \n",
      "\n",
      "    cumulative_distance  autoencoder_anomaly  \n",
      "8             92.792298                    1  \n",
      "11           131.328400                    1  \n",
      "17           191.851842                    1  \n",
      "19           207.813865                    1  \n",
      "20           214.458147                    1  \n",
      "\n",
      "[5 rows x 24 columns]\n",
      "Anomalies saved to 'autoencoder_anomalies.csv'\n"
     ]
    }
   ],
   "source": [
    "import pandas as pd\n",
    "import numpy as np\n",
    "from tensorflow.keras.models import Sequential\n",
    "from tensorflow.keras.layers import Dense\n",
    "\n",
    "# Load the preprocessed AIS data\n",
    "ais = pd.read_csv('preprocessed_ais.csv')\n",
    "\n",
    "# Feature selection based on important attributes and engineered features\n",
    "features = ais[['VesselType', 'Length', 'Width', 'calculated_speed', 'heading_deviation', 'sog_mps', 'distance', 'time_diff']]\n",
    "\n",
    "# Ensure there are no missing values\n",
    "features = features.fillna(0).to_numpy()\n",
    "\n",
    "# Define the Autoencoder model\n",
    "input_dim = features.shape[1]\n",
    "autoencoder = Sequential([\n",
    "    Dense(32, activation='relu', input_dim=input_dim),\n",
    "    Dense(16, activation='relu'),\n",
    "    Dense(8, activation='relu'),\n",
    "    Dense(16, activation='relu'),\n",
    "    Dense(32, activation='relu'),\n",
    "    Dense(input_dim, activation='sigmoid')\n",
    "])\n",
    "\n",
    "# Autoencoder compilation \n",
    "autoencoder.compile(optimizer='adam', loss='mse')\n",
    "\n",
    "# Model training\n",
    "autoencoder.fit(features, features, epochs=10, batch_size=32, validation_split=0.1, verbose=1)\n",
    "\n",
    "# Generate predictions\n",
    "reconstructions = autoencoder.predict(features)\n",
    "\n",
    "# Calculate the reconstruction error\n",
    "reconstruction_errors = np.mean(np.square(reconstructions - features), axis=1)\n",
    "\n",
    "# Set threshold for anomaly detection\n",
    "threshold = np.percentile(reconstruction_errors, 95)\n",
    "\n",
    "# Mark anomalies in the dataset\n",
    "ais['autoencoder_anomaly'] = (reconstruction_errors > threshold).astype(int)\n",
    "\n",
    "# Extract rows marked as anomalies\n",
    "anomalies = ais[ais['autoencoder_anomaly'] == 1]\n",
    "\n",
    "# Print summary of anomalies\n",
    "print(f\"Number of anomalies detected: {len(anomalies)}\")\n",
    "print(anomalies.head())\n",
    "\n",
    "# Export generated anomalies to csv\n",
    "anomalies.to_csv('autoencoder_anomalies.csv', index=False)\n",
    "print(\"Anomalies saved to 'autoencoder_anomalies.csv'\")"
   ]
  },
  {
   "cell_type": "code",
   "execution_count": null,
   "id": "98b6e53a-bd65-4fea-8fb0-cdfff0621708",
   "metadata": {},
   "outputs": [],
   "source": []
  }
 ],
 "metadata": {
  "kernelspec": {
   "display_name": "Python 3 (ipykernel)",
   "language": "python",
   "name": "python3"
  },
  "language_info": {
   "codemirror_mode": {
    "name": "ipython",
    "version": 3
   },
   "file_extension": ".py",
   "mimetype": "text/x-python",
   "name": "python",
   "nbconvert_exporter": "python",
   "pygments_lexer": "ipython3",
   "version": "3.10.16"
  }
 },
 "nbformat": 4,
 "nbformat_minor": 5
}
