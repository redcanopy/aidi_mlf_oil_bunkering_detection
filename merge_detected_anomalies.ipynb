{
 "cells": [
  {
   "cell_type": "markdown",
   "id": "336b97fe-3165-487c-b738-15b00210e309",
   "metadata": {},
   "source": [
    "## Merging Detected Anomalies\n",
    "The output from Isolation Forest and Autoencoder will be merged to find the common anomalies detected by both models."
   ]
  },
  {
   "cell_type": "code",
   "execution_count": 5,
   "id": "080bf41a-f875-4abd-9a38-36f56c4cdc88",
   "metadata": {},
   "outputs": [
    {
     "name": "stdout",
     "output_type": "stream",
     "text": [
      "Number of common anomalies detected: 4381\n",
      "       MMSI         BaseDateTime   LAT_iso   LON_iso  SOG_iso  COG_iso  \\\n",
      "0        11  2023-01-01 01:08:06  27.29230 -90.96793      0.1    207.2   \n",
      "9       111  2023-01-01 03:34:21  27.35387 -94.62561      0.1    201.1   \n",
      "32  3660489  2023-01-01 09:17:51  27.37022 -89.92430      0.0    135.0   \n",
      "40  3669883  2023-01-01 06:05:32  41.34564 -72.09592      0.0    360.0   \n",
      "42  3791472  2023-01-01 10:03:13  26.13172 -92.04032      0.0    298.5   \n",
      "\n",
      "    Heading_iso VesselName_iso     IMO_iso CallSign_iso  ...  Draft_auto  \\\n",
      "0         511.0   CONSTITUTION  IMO0000007       GC 680  ...         0.0   \n",
      "9         511.0       BOOMVANG  IMO0000001        EB643  ...         0.0   \n",
      "32          0.0    NEPTUNE TLP         NaN      WQGV318  ...         NaN   \n",
      "40        511.0            NaN         NaN          NaN  ...         0.0   \n",
      "42          1.0    LUCIUS SPAR  IMO1108561       WQXP40  ...         0.0   \n",
      "\n",
      "    Cargo_auto  TransceiverClass_auto  distance_auto  time_diff_auto  \\\n",
      "0         90.0                      A       6.937042           904.0   \n",
      "9         90.0                      A      13.604773          1441.0   \n",
      "32        99.0                      A      11.248938          1258.0   \n",
      "40         0.0                      A       6.484110           900.0   \n",
      "42        80.0                      A       7.000406          4111.0   \n",
      "\n",
      "    calculated_speed_auto heading_deviation_auto  sog_mps_auto  \\\n",
      "0                0.007674                    0.0      0.051444   \n",
      "9                0.009441                    0.0      0.051444   \n",
      "32               0.008942                    0.0      0.000000   \n",
      "40               0.007205                    0.0      0.000000   \n",
      "42               0.001703                    0.0      0.000000   \n",
      "\n",
      "    cumulative_distance_auto  autoencoder_anomaly  \n",
      "0                  92.792298                    1  \n",
      "9                 317.002955                    1  \n",
      "32                622.892367                    1  \n",
      "40                  6.484110                    1  \n",
      "42               6154.724330                    1  \n",
      "\n",
      "[5 rows x 46 columns]\n"
     ]
    }
   ],
   "source": [
    "import pandas as pd\n",
    "\n",
    "# Import the csv with the detected anomalies\n",
    "forest_anomalies = pd.read_csv('isolation_forest_anomalies.csv')\n",
    "autoencoder_anomalies = pd.read_csv('autoencoder_anomalies.csv')\n",
    "\n",
    "# Using 'MMSI' and 'BaseDateTime' to merge the results\n",
    "common_columns = ['MMSI', 'BaseDateTime']\n",
    "\n",
    "# Merge the two datasets on the common identifier columns\n",
    "merged_anomalies = pd.merge(\n",
    "    forest_anomalies,\n",
    "    autoencoder_anomalies,\n",
    "    on=common_columns,\n",
    "    suffixes=('_iso', '_auto')\n",
    ")\n",
    "\n",
    "# Assuming both methods anomalies with a column called '*_anomaly'\n",
    "common_anomalies = merged_anomalies[\n",
    "    (merged_anomalies['autoencoder_anomaly'] == 1) &\n",
    "    (merged_anomalies['forest_anomaly'] == -1)\n",
    "]\n",
    "\n",
    "common_anomalies = common_anomalies.drop_duplicates(subset=['MMSI'])\n",
    "\n",
    "# Print common anomalies\n",
    "print(f\"Number of common anomalies detected: {len(common_anomalies)}\")\n",
    "print(common_anomalies.head())\n",
    "\n",
    "# Save common anomalies to a CSV file\n",
    "common_anomalies.to_csv('common_anomalies.csv', index=False)"
   ]
  },
  {
   "cell_type": "code",
   "execution_count": null,
   "id": "e0b8fc11-8919-46b3-b12c-6314fc6c6312",
   "metadata": {},
   "outputs": [],
   "source": []
  }
 ],
 "metadata": {
  "kernelspec": {
   "display_name": "Python 3 (ipykernel)",
   "language": "python",
   "name": "python3"
  },
  "language_info": {
   "codemirror_mode": {
    "name": "ipython",
    "version": 3
   },
   "file_extension": ".py",
   "mimetype": "text/x-python",
   "name": "python",
   "nbconvert_exporter": "python",
   "pygments_lexer": "ipython3",
   "version": "3.10.16"
  }
 },
 "nbformat": 4,
 "nbformat_minor": 5
}
