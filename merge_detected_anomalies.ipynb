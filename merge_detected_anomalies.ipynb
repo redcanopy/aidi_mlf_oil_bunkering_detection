{
 "cells": [
  {
   "cell_type": "markdown",
   "id": "336b97fe-3165-487c-b738-15b00210e309",
   "metadata": {},
   "source": [
    "## Merging Detected Anomalies\n",
    "The output from Isolation Forest and Autoencoder will be merged to find the common anomalies detected by both models."
   ]
  },
  {
   "cell_type": "code",
   "execution_count": null,
   "id": "080bf41a-f875-4abd-9a38-36f56c4cdc88",
   "metadata": {},
   "outputs": [],
   "source": [
    "import pandas as pd\n",
    "\n",
    "# Import the csv with the detected anomalies\n",
    "forest_anomalies = pd.read_csv('isolation_forest_anomalies.csv')\n",
    "autoencoder_anomalies = pd.read_csv('autoencoder_anomalies.csv')\n",
    "\n",
    "# Using 'MMSI' and 'BaseDateTime' to merge the results\n",
    "common_columns = ['MMSI', 'BaseDateTime']\n",
    "\n",
    "# Merge the two datasets on the common identifier columns\n",
    "merged_anomalies = pd.merge(\n",
    "    iso_forest_anomalies,\n",
    "    autoencoder_anomalies,\n",
    "    on=common_columns,\n",
    "    suffixes=('_iso', '_auto')\n",
    ")\n",
    "\n",
    "# Assuming both methods mark anomalies with a column called 'anomaly' (1 for anomaly, 0 for normal)\n",
    "common_anomalies = merged_anomalies[\n",
    "    (merged_anomalies['autoencoder_anomaly'] == 1) &\n",
    "    (merged_anomalies['iso_forest_anomaly'] == -1)\n",
    "]\n",
    "\n",
    "# Print common anomalies\n",
    "print(f\"Number of common anomalies detected: {len(common_anomalies)}\")\n",
    "print(common_anomalies.head())\n",
    "\n",
    "# Save common anomalies to a CSV file\n",
    "common_anomalies.to_csv('common_anomalies.csv', index=False)\n",
    "print(\"Common anomalies saved to 'common_anomalies.csv'\")"
   ]
  }
 ],
 "metadata": {
  "kernelspec": {
   "display_name": "Python 3 (ipykernel)",
   "language": "python",
   "name": "python3"
  },
  "language_info": {
   "codemirror_mode": {
    "name": "ipython",
    "version": 3
   },
   "file_extension": ".py",
   "mimetype": "text/x-python",
   "name": "python",
   "nbconvert_exporter": "python",
   "pygments_lexer": "ipython3",
   "version": "3.10.16"
  }
 },
 "nbformat": 4,
 "nbformat_minor": 5
}
