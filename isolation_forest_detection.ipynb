{
 "cells": [
  {
   "cell_type": "markdown",
   "id": "b63ee781-5e10-4b27-a070-a88fc9103e9f",
   "metadata": {},
   "source": [
    "## Isolation Forest Anomaly detection\n",
    "Using unsupervised learning Machine Learning model based on the fact that the dataset from Mariine Cadastre (https://hub.marinecadastre.gov/pages/vesseltraffic) is unlabelled data."
   ]
  },
  {
   "cell_type": "code",
   "execution_count": 1,
   "id": "6f954183-6a92-4f22-95f1-8e09bcb006b1",
   "metadata": {},
   "outputs": [
    {
     "name": "stdout",
     "output_type": "stream",
     "text": [
      "Number of anomalies detected: 121806\n",
      "    MMSI         BaseDateTime  ...  cumulative_distance  forest_anomaly\n",
      "8     11  2023-01-01 01:08:06  ...            92.792298              -1\n",
      "11    11  2023-01-01 01:28:59  ...           131.328400              -1\n",
      "17    11  2023-01-01 02:02:04  ...           191.851842              -1\n",
      "19    11  2023-01-01 02:20:08  ...           207.813865              -1\n",
      "20    11  2023-01-01 02:32:03  ...           214.458147              -1\n",
      "\n",
      "[5 rows x 24 columns]\n",
      "Anomalies saved to 'isolation_forest_anomalies.csv'\n"
     ]
    }
   ],
   "source": [
    "# Import necessary libraries and utilities\n",
    "import pandas as pd\n",
    "import numpy as np\n",
    "from sklearn.ensemble import IsolationForest\n",
    "# import matplotlib.pyplot as plt\n",
    "\n",
    "# Load the preprocessed AIS data\n",
    "ais = pd.read_csv('./preprocessed_ais.csv')\n",
    "\n",
    "# Features selection based on engineered features and other relevant attributes\n",
    "features = ais[['VesselType', 'Length', 'Width', 'calculated_speed', 'heading_deviation', 'sog_mps', 'distance', 'time_diff']]\n",
    "\n",
    "# Impute 0 for missing values\n",
    "features = features.fillna(0)\n",
    "\n",
    "# Train Isolation Forest model\n",
    "isolation_forest = IsolationForest(n_estimators=100, contamination=0.05, random_state=42)\n",
    "isolation_forest.fit(features)\n",
    "\n",
    "# Predict anomalies\n",
    "ais['forest_anomaly'] = isolation_forest.predict(features)\n",
    "\n",
    "# Extract rows marked as anomalies\n",
    "anomalies = ais[ais['forest_anomaly'] == -1]\n",
    "\n",
    "# Print summary of anomalies\n",
    "print(f\"Number of anomalies detected: {len(anomalies)}\")\n",
    "print(anomalies.head())\n",
    "\n",
    "# Export anomalies generated to csv\n",
    "anomalies.to_csv('isolation_forest_anomalies.csv', index=False)"
   ]
  },
  {
   "cell_type": "code",
   "execution_count": null,
   "id": "ba523e14-dc0e-4f41-ab70-9ea6058dad8e",
   "metadata": {},
   "outputs": [],
   "source": []
  }
 ],
 "metadata": {
  "kernelspec": {
   "display_name": "Python 3 (ipykernel)",
   "language": "python",
   "name": "python3"
  },
  "language_info": {
   "codemirror_mode": {
    "name": "ipython",
    "version": 3
   },
   "file_extension": ".py",
   "mimetype": "text/x-python",
   "name": "python",
   "nbconvert_exporter": "python",
   "pygments_lexer": "ipython3",
   "version": "3.10.16"
  }
 },
 "nbformat": 4,
 "nbformat_minor": 5
}
