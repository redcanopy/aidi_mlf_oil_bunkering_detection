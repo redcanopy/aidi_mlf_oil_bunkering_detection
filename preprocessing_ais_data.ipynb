{
  "cells": [
    {
      "cell_type": "markdown",
      "id": "82aaee0c-cc53-4485-bcd7-1668d5e65dd9",
      "metadata": {
        "id": "82aaee0c-cc53-4485-bcd7-1668d5e65dd9"
      },
      "source": [
        "## Preprocessing of AIS (Automatic Identification System) dataset\n",
        "Preprocess the data to remove noise and also engineer some features that will help in anomaly detection"
      ]
    },
    {
      "cell_type": "code",
      "execution_count": null,
      "id": "f75b925a-cde0-42b1-9fc8-a445e48a974f",
      "metadata": {
        "colab": {
          "base_uri": "https://localhost:8080/"
        },
        "id": "f75b925a-cde0-42b1-9fc8-a445e48a974f",
        "outputId": "eefb390c-607e-41ae-b8f9-ba7e936736c7"
      },
      "outputs": [
        {
          "output_type": "stream",
          "name": "stdout",
          "text": [
            "total rows: 21595522\n",
            "Initial shape of the dataset: (21595522, 17)\n"
          ]
        }
      ],
      "source": [
        "import pandas as pd\n",
        "from geopy.distance import geodesic\n",
        "import numpy as np\n",
        "\n",
        "# Load AIS data\n",
        "ais1 = pd.read_csv('AIS_2023_12_24.csv')\n",
        "ais2 = pd.read_csv('AIS_2023_12_25.csv')\n",
        "ais3 = pd.read_csv('AIS_2023_12_26.csv')\n",
        "\n",
        "# Initialize an empty list to hold DataFrames\n",
        "dataframes = []\n",
        "\n",
        "# Append each CSV to the list\n",
        "dataframes.append(ais1)\n",
        "dataframes.append(ais2)\n",
        "dataframes.append(ais3)\n",
        "\n",
        "# Concatenate DataFrames\n",
        "ais = pd.concat(dataframes, ignore_index=True)\n",
        "\n",
        "total_rows = len(ais)\n",
        "print(f\"total rows: {total_rows}\")\n",
        "\n",
        "# Exploring the dataset\n",
        "print(\"Initial shape of the dataset:\", ais.shape)\n",
        "\n",
        "# Remove duplicate rows\n",
        "ais = ais.drop_duplicates()\n",
        "print(\"After dropping duplicates:\", ais.shape)\n",
        "\n",
        "# Remove invalid LAT or LON values\n",
        "ais = ais[(ais['LAT'] >= -90) & (ais['LAT'] <= 90)]\n",
        "ais = ais[(ais['LON'] >= -180) & (ais['LON'] <= 180)]\n",
        "print(\"After invalid coordinates:\", ais.shape)\n",
        "\n",
        "# Convert BaseDateTime to datetime and sort\n",
        "ais['BaseDateTime'] = pd.to_datetime(ais['BaseDateTime'], errors='coerce')\n",
        "ais = ais.dropna(subset=['BaseDateTime'])\n",
        "ais = ais.sort_values(by=['MMSI', 'BaseDateTime'])\n",
        "print(\"After handling timestamps:\", ais.shape)\n",
        "\n",
        "# Feature engineering for Distance, Time Difference, Speed, etc\n",
        "# Function to calculate the distance\n",
        "def calculate_distance(row1, row2):\n",
        "    try:\n",
        "        return geodesic((row1['LAT'], row1['LON']), (row2['LAT'], row2['LON'])).meters\n",
        "    except ValueError:\n",
        "        return 0\n",
        "\n",
        "# Add distance and time differences\n",
        "ais['distance'] = 0.0\n",
        "ais['time_diff'] = 0.0\n",
        "\n",
        "for mmsi, group in ais.groupby('MMSI'):\n",
        "    group = group.sort_values(by='BaseDateTime')\n",
        "    distances = []\n",
        "    time_diffs = []\n",
        "\n",
        "    for i in range(1, len(group)):\n",
        "        row1 = group.iloc[i - 1]\n",
        "        row2 = group.iloc[i]\n",
        "        distances.append(calculate_distance(row1, row2))\n",
        "        time_diffs.append((row2['BaseDateTime'] - row1['BaseDateTime']).total_seconds())\n",
        "\n",
        "    ais.loc[group.index[1:], 'distance'] = distances\n",
        "    ais.loc[group.index[1:], 'time_diff'] = time_diffs\n",
        "\n",
        "# Remove rows with zero time difference\n",
        "ais = ais[ais['time_diff'] > 0]\n",
        "\n",
        "# Remove rows with distance less than 5\n",
        "ais = ais[ais['distance'] >= 5]\n",
        "print(\"After removing rows with distance < 5:\", ais.shape)\n",
        "\n",
        "# Speed calculation (distance/time in meters per second)\n",
        "ais['calculated_speed'] = ais['distance'] / ais['time_diff']\n",
        "\n",
        "# Heading deviation calculation\n",
        "ais['heading_deviation'] = ais.groupby('MMSI')['Heading'].diff().fillna(0).abs()\n",
        "\n",
        "# Convert speed over ground (SOG) to m/s to maintain uniformity with calculated_speed\n",
        "ais['sog_mps'] = ais['SOG'] * 0.514444  # 1 knot = 0.514444 m/s\n",
        "\n",
        "# Cumulative distance traveled by vessel\n",
        "ais['cumulative_distance'] = ais.groupby('MMSI')['distance'].cumsum()\n",
        "\n",
        "# Replace missing values with median or fill with zeros\n",
        "ais.fillna({\n",
        "    'calculated_speed': ais['calculated_speed'].median(),\n",
        "    'heading_deviation': 0,\n",
        "    'sog_mps': ais['sog_mps'].median(),\n",
        "}, inplace=True)\n",
        "\n",
        "# Remove extreme outliers in calculated speed\n",
        "ais = ais[ais['calculated_speed'] < 50]  # Arbitrary threshold for speed (50 m/s ~ 180 km/h)\n",
        "\n",
        "print(\"Final dataset shape after preprocessing:\", ais.shape)\n",
        "\n",
        "# Export preprocessed data\n",
        "ais.to_csv('preprocessed_ais.csv', index=False)\n",
        "print(\"Preprocessed data saved to 'preprocessed_ais.csv'\")"
      ]
    }
  ],
  "metadata": {
    "kernelspec": {
      "display_name": "Python 3 (ipykernel)",
      "language": "python",
      "name": "python3"
    },
    "language_info": {
      "codemirror_mode": {
        "name": "ipython",
        "version": 3
      },
      "file_extension": ".py",
      "mimetype": "text/x-python",
      "name": "python",
      "nbconvert_exporter": "python",
      "pygments_lexer": "ipython3",
      "version": "3.10.16"
    },
    "colab": {
      "provenance": []
    }
  },
  "nbformat": 4,
  "nbformat_minor": 5
}